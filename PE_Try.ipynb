{
 "cells": [
  {
   "cell_type": "code",
   "execution_count": 203,
   "metadata": {},
   "outputs": [],
   "source": [
    "import pandas as pd\n",
    "import numpy as np\n",
    "from sklearn.model_selection import train_test_split\n",
    "from sklearn.ensemble import RandomForestClassifier\n",
    "from sklearn.metrics import accuracy_score\n",
    "from sklearn.linear_model import LinearRegression\n",
    "from sklearn.metrics import mean_squared_error\n",
    "from sklearn.linear_model import LogisticRegression\n",
    "from sklearn.ensemble import GradientBoostingClassifier\n",
    "from sdv.single_table import GaussianCopulaSynthesizer\n",
    "from ctgan import CTGAN\n",
    "from sklearn.svm import SVC\n",
    "np.random.seed(10)"
   ]
  },
  {
   "cell_type": "code",
   "execution_count": 2,
   "metadata": {},
   "outputs": [],
   "source": [
    "#Loading of dataset\n",
    "\n",
    "df = pd.read_excel('PE_Try.xlsx')#To convert the given excel file which contains the original data to a dataframe"
   ]
  },
  {
   "cell_type": "code",
   "execution_count": 3,
   "metadata": {},
   "outputs": [
    {
     "name": "stdout",
     "output_type": "stream",
     "text": [
      "1164\n",
      "4\n"
     ]
    }
   ],
   "source": [
    "#Find shape of current dataframe\n",
    "\n",
    "print(df.shape[0])\n",
    "print(df.shape[1])"
   ]
  },
  {
   "cell_type": "code",
   "execution_count": 4,
   "metadata": {},
   "outputs": [],
   "source": [
    "#Change the dataframe to the one that is to be used\n",
    "\n",
    "X = df[['Temperature', 'pH', 'Methane']]  # Features\n",
    "y = df['Result']  # Target\n",
    "\n",
    "# Split data into training and validation sets\n",
    "X_train, X_val, y_train, y_val = train_test_split(X, y, test_size=0.2, random_state=1)"
   ]
  },
  {
   "cell_type": "code",
   "execution_count": 13,
   "metadata": {},
   "outputs": [
    {
     "name": "stdout",
     "output_type": "stream",
     "text": [
      "Accuracy: 1.0\n"
     ]
    }
   ],
   "source": [
    "#Random Forest (X_train etc defined above, run that code first by changing the dataframe)\n",
    "\n",
    "# Assuming X_train, X_val, y_train, y_val are already defined from previous steps\n",
    "# X_train and X_val are your features, y_train and y_val are your target\n",
    "\n",
    "# Initialize and train a classifier\n",
    "clf = RandomForestClassifier(random_state=1)\n",
    "clf.fit(X_train, y_train)\n",
    "\n",
    "# Predict on the validation set\n",
    "y_pred = clf.predict(X_val)\n",
    "\n",
    "# Evaluate the model\n",
    "print(\"Accuracy:\", accuracy_score(y_val, y_pred))"
   ]
  },
  {
   "cell_type": "code",
   "execution_count": 14,
   "metadata": {},
   "outputs": [
    {
     "name": "stdout",
     "output_type": "stream",
     "text": [
      "Mean Squared Error: 0.5324083673579036\n"
     ]
    }
   ],
   "source": [
    "#Linear Regression\n",
    "\n",
    "# Assuming X_train, X_val, y_train, y_val are already defined from previous steps\n",
    "# X_train and X_val are your features, y_train and y_val are your target\n",
    "\n",
    "# Initialize and train the linear regression model\n",
    "linear_reg = LinearRegression()\n",
    "linear_reg.fit(X_train, y_train)\n",
    "\n",
    "# Predict on the validation set\n",
    "y_pred = linear_reg.predict(X_val)\n",
    "\n",
    "# Evaluate the model\n",
    "mse = mean_squared_error(y_val, y_pred)\n",
    "print(\"Mean Squared Error:\", mse)\n"
   ]
  },
  {
   "cell_type": "code",
   "execution_count": 15,
   "metadata": {},
   "outputs": [
    {
     "name": "stdout",
     "output_type": "stream",
     "text": [
      "Accuracy: 0.9570815450643777\n"
     ]
    }
   ],
   "source": [
    "#Logistic Regression (X_train etc defined above, first run that segment of code)\n",
    "\n",
    "# Assuming X_train, X_val, y_train, y_val are already defined from previous steps\n",
    "# X_train and X_val are your features, y_train and y_val are your target\n",
    "\n",
    "# Initialize and train the logistic regression model\n",
    "logistic_reg = LogisticRegression(max_iter=2000)\n",
    "logistic_reg.fit(X_train, y_train)\n",
    "\n",
    "# Predict on the validation set\n",
    "y_pred = logistic_reg.predict(X_val)\n",
    "\n",
    "# Evaluate the model\n",
    "accuracy = accuracy_score(y_val, y_pred)\n",
    "print(\"Accuracy:\", accuracy)\n"
   ]
  },
  {
   "cell_type": "code",
   "execution_count": 17,
   "metadata": {},
   "outputs": [
    {
     "name": "stdout",
     "output_type": "stream",
     "text": [
      "Accuracy: 1.0\n"
     ]
    }
   ],
   "source": [
    "#Gradient Boosting (X_train etc defined above, first run that segment of code)\n",
    "\n",
    "# Assuming X_train, X_val, y_train, y_val are already defined from previous steps\n",
    "# X_train and X_val are your features, y_train and y_val are your target\n",
    "\n",
    "# Initialize and train the gradient boosting model\n",
    "gb_classifier = GradientBoostingClassifier()\n",
    "gb_classifier.fit(X_train, y_train)\n",
    "\n",
    "# Predict on the validation set\n",
    "y_pred = gb_classifier.predict(X_val)\n",
    "\n",
    "# Evaluate the model\n",
    "accuracy = accuracy_score(y_val, y_pred)\n",
    "print(\"Accuracy:\", accuracy)\n"
   ]
  },
  {
   "cell_type": "code",
   "execution_count": 204,
   "metadata": {},
   "outputs": [
    {
     "name": "stdout",
     "output_type": "stream",
     "text": [
      "   Temperature      pH   Methane  Result\n",
      "0        20.00  5.0000  0.000000       0\n",
      "1        20.08  4.9875  0.005917       0\n",
      "2        20.16  4.9750  0.011834       0\n",
      "3        20.24  4.9625  0.017751       0\n",
      "4        20.32  4.9500  0.023669       0\n"
     ]
    }
   ],
   "source": [
    "file_path = 'PE_Try.xlsx'\n",
    "data1 = pd.read_excel(file_path)\n",
    "\n",
    "print(data1.head())"
   ]
  },
  {
   "cell_type": "code",
   "execution_count": 205,
   "metadata": {},
   "outputs": [
    {
     "name": "stdout",
     "output_type": "stream",
     "text": [
      "1164\n",
      "4\n"
     ]
    }
   ],
   "source": [
    "print(data1.shape[0])\n",
    "print(data1.shape[1])"
   ]
  },
  {
   "cell_type": "code",
   "execution_count": 206,
   "metadata": {},
   "outputs": [
    {
     "name": "stdout",
     "output_type": "stream",
     "text": [
      "   Temperature        pH   Methane  Result\n",
      "0    42.917531  5.132185  2.253097       0\n",
      "1    23.769903  4.204331  3.984917       2\n",
      "2    56.094155  8.756094  4.136452       0\n",
      "3    42.253743  7.019250  0.240732       3\n",
      "4    44.480511  7.156038  3.157119       0\n"
     ]
    }
   ],
   "source": [
    "#To initialise and fit the CTGAN model on the current dataset\n",
    "\n",
    "ctgan = CTGAN()\n",
    "\n",
    "#Here Result will give values from 0,1,2,3. Hence, we have to define it as discrete column\n",
    "discrete_columns = ['Result']\n",
    "\n",
    "# Fit CTGAN model\n",
    "ctgan.fit(data1, discrete_columns, epochs=10)  # You might want to experiment with the number of epochs\n",
    "\n",
    "# Generate synthetic data\n",
    "synthetic_data = ctgan.sample(20000)\n",
    "\n",
    "# Display the first few rows of the synthetic data\n",
    "print(synthetic_data.head())"
   ]
  },
  {
   "cell_type": "code",
   "execution_count": 207,
   "metadata": {},
   "outputs": [],
   "source": [
    "# Prepare features and target\n",
    "X_synthetic = synthetic_data.drop(['Result', 'Methane'], axis=1)\n",
    "y_synthetic = synthetic_data['Result']\n",
    "\n",
    "X_real = data1.drop(['Result', 'Methane'], axis=1)\n",
    "y_real = data1['Result']\n",
    "\n",
    "# Split real data for testing\n",
    "X_train_real, X_test_real, y_train_real, y_test_real = train_test_split(X_real, y_real, test_size=0.2)"
   ]
  },
  {
   "cell_type": "code",
   "execution_count": 208,
   "metadata": {},
   "outputs": [
    {
     "name": "stdout",
     "output_type": "stream",
     "text": [
      "Accuracy on real test data: 0.27467811158798283\n"
     ]
    }
   ],
   "source": [
    "#Gradient Boosting\n",
    "model = GradientBoostingClassifier()\n",
    "model.fit(X_synthetic, y_synthetic)\n",
    "\n",
    "# Test on real data\n",
    "y_pred = model.predict(X_test_real)\n",
    "accuracy = accuracy_score(y_test_real, y_pred)\n",
    "\n",
    "print(\"Accuracy on real test data:\", accuracy)"
   ]
  },
  {
   "cell_type": "code",
   "execution_count": 209,
   "metadata": {},
   "outputs": [
    {
     "name": "stdout",
     "output_type": "stream",
     "text": [
      "Logistic Regression Accuracy on real test data: 0.3562231759656652\n"
     ]
    }
   ],
   "source": [
    "#Logistic Regression\n",
    "model_lr = LogisticRegression(max_iter=1000)\n",
    "model_lr.fit(X_synthetic, y_synthetic)\n",
    "\n",
    "# Test on real data\n",
    "y_pred_lr = model_lr.predict(X_test_real)\n",
    "accuracy_lr = accuracy_score(y_test_real, y_pred_lr)\n",
    "\n",
    "print(\"Logistic Regression Accuracy on real test data:\", accuracy_lr)"
   ]
  },
  {
   "cell_type": "code",
   "execution_count": 210,
   "metadata": {},
   "outputs": [
    {
     "name": "stdout",
     "output_type": "stream",
     "text": [
      "Random Forest Accuracy on real test data: 0.26180257510729615\n"
     ]
    }
   ],
   "source": [
    "model_rf = RandomForestClassifier()\n",
    "model_rf.fit(X_synthetic, y_synthetic)\n",
    "\n",
    "# Test on real data\n",
    "y_pred_rf = model_rf.predict(X_test_real)\n",
    "accuracy_rf = accuracy_score(y_test_real, y_pred_rf)\n",
    "\n",
    "print(\"Random Forest Accuracy on real test data:\", accuracy_rf)"
   ]
  },
  {
   "cell_type": "code",
   "execution_count": 211,
   "metadata": {},
   "outputs": [
    {
     "name": "stdout",
     "output_type": "stream",
     "text": [
      "SVM Accuracy on real test data: 0.3562231759656652\n"
     ]
    }
   ],
   "source": [
    "model_svm = SVC()\n",
    "model_svm.fit(X_synthetic, y_synthetic)\n",
    "\n",
    "# Test on real data\n",
    "y_pred_svm = model_svm.predict(X_test_real)\n",
    "accuracy_svm = accuracy_score(y_test_real, y_pred_svm)\n",
    "\n",
    "print(\"SVM Accuracy on real test data:\", accuracy_svm)"
   ]
  },
  {
   "cell_type": "code",
   "execution_count": 212,
   "metadata": {},
   "outputs": [
    {
     "name": "stdout",
     "output_type": "stream",
     "text": [
      "XGBoost Accuracy on real test data: 0.2918454935622318\n"
     ]
    }
   ],
   "source": [
    "from xgboost import XGBClassifier\n",
    "\n",
    "# Create XGBoost classifier with default parameters\n",
    "model_xgb = XGBClassifier(use_label_encoder=False, eval_metric='logloss')\n",
    "model_xgb.fit(X_synthetic, y_synthetic)\n",
    "\n",
    "# Test on real data\n",
    "y_pred_xgb = model_xgb.predict(X_test_real)\n",
    "accuracy_xgb = accuracy_score(y_test_real, y_pred_xgb)\n",
    "\n",
    "print(\"XGBoost Accuracy on real test data:\", accuracy_xgb)"
   ]
  },
  {
   "cell_type": "code",
   "execution_count": 213,
   "metadata": {},
   "outputs": [
    {
     "name": "stdout",
     "output_type": "stream",
     "text": [
      "KNN Accuracy on real test data: 0.296137339055794\n"
     ]
    }
   ],
   "source": [
    "from sklearn.neighbors import KNeighborsClassifier\n",
    "\n",
    "# Create KNN classifier with default parameters\n",
    "model_knn = KNeighborsClassifier()\n",
    "model_knn.fit(X_synthetic, y_synthetic)\n",
    "\n",
    "# Test on real data\n",
    "y_pred_knn = model_knn.predict(X_test_real)\n",
    "accuracy_knn = accuracy_score(y_test_real, y_pred_knn)\n",
    "\n",
    "print(\"KNN Accuracy on real test data:\", accuracy_knn)"
   ]
  },
  {
   "cell_type": "code",
   "execution_count": 41,
   "metadata": {},
   "outputs": [
    {
     "data": {
      "image/png": "[encoded data removed]",
      "text/plain": [
       "<Figure size 640x480 with 1 Axes>"
      ]
     },
     "metadata": {},
     "output_type": "display_data"
    }
   ],
   "source": [
    "import matplotlib.pyplot as plt \n",
    "import pandas as pd \n",
    "file = pd.read_excel('PE_Try.xlsx') \n",
    "x_axis = file['Days'] \n",
    "y_axis = file['pH'] \n",
    "plt.bar(x_axis, y_axis, width=1) \n",
    "plt.ylim(3, 10)\n",
    "plt.xlim(0,1200)\n",
    "plt.xlabel(\"X-Axis\") \n",
    "plt.ylabel(\"Y-Axis\") \n",
    "plt.show() "
   ]
  },
  {
   "cell_type": "code",
   "execution_count": 15,
   "metadata": {},
   "outputs": [
    {
     "data": {
      "text/html": [
       "<div>\n",
       "<style scoped>\n",
       "    .dataframe tbody tr th:only-of-type {\n",
       "        vertical-align: middle;\n",
       "    }\n",
       "\n",
       "    .dataframe tbody tr th {\n",
       "        vertical-align: top;\n",
       "    }\n",
       "\n",
       "    .dataframe thead th {\n",
       "        text-align: right;\n",
       "    }\n",
       "</style>\n",
       "<table border=\"1\" class=\"dataframe\">\n",
       "  <thead>\n",
       "    <tr style=\"text-align: right;\">\n",
       "      <th></th>\n",
       "      <th>Temperature</th>\n",
       "      <th>pH</th>\n",
       "      <th>Days</th>\n",
       "      <th>Methane</th>\n",
       "      <th>Result</th>\n",
       "    </tr>\n",
       "  </thead>\n",
       "  <tbody>\n",
       "    <tr>\n",
       "      <th>count</th>\n",
       "      <td>1164.000000</td>\n",
       "      <td>1164.000000</td>\n",
       "      <td>1164.000000</td>\n",
       "      <td>1164.000000</td>\n",
       "      <td>1164.000000</td>\n",
       "    </tr>\n",
       "    <tr>\n",
       "      <th>mean</th>\n",
       "      <td>43.285524</td>\n",
       "      <td>7.192699</td>\n",
       "      <td>582.500000</td>\n",
       "      <td>2.065172</td>\n",
       "      <td>1.017182</td>\n",
       "    </tr>\n",
       "    <tr>\n",
       "      <th>std</th>\n",
       "      <td>14.953896</td>\n",
       "      <td>1.137215</td>\n",
       "      <td>336.162163</td>\n",
       "      <td>1.077858</td>\n",
       "      <td>0.895031</td>\n",
       "    </tr>\n",
       "    <tr>\n",
       "      <th>min</th>\n",
       "      <td>20.000000</td>\n",
       "      <td>4.000000</td>\n",
       "      <td>1.000000</td>\n",
       "      <td>0.000000</td>\n",
       "      <td>0.000000</td>\n",
       "    </tr>\n",
       "    <tr>\n",
       "      <th>25%</th>\n",
       "      <td>29.607500</td>\n",
       "      <td>7.011643</td>\n",
       "      <td>291.750000</td>\n",
       "      <td>1.378468</td>\n",
       "      <td>0.000000</td>\n",
       "    </tr>\n",
       "    <tr>\n",
       "      <th>50%</th>\n",
       "      <td>41.930000</td>\n",
       "      <td>7.117306</td>\n",
       "      <td>582.500000</td>\n",
       "      <td>2.000000</td>\n",
       "      <td>1.000000</td>\n",
       "    </tr>\n",
       "    <tr>\n",
       "      <th>75%</th>\n",
       "      <td>55.560000</td>\n",
       "      <td>7.937533</td>\n",
       "      <td>873.250000</td>\n",
       "      <td>2.844948</td>\n",
       "      <td>2.000000</td>\n",
       "    </tr>\n",
       "    <tr>\n",
       "      <th>max</th>\n",
       "      <td>70.050000</td>\n",
       "      <td>8.830000</td>\n",
       "      <td>1164.000000</td>\n",
       "      <td>4.100000</td>\n",
       "      <td>3.000000</td>\n",
       "    </tr>\n",
       "  </tbody>\n",
       "</table>\n",
       "</div>"
      ],
      "text/plain": [
       "       Temperature           pH         Days      Methane       Result\n",
       "count  1164.000000  1164.000000  1164.000000  1164.000000  1164.000000\n",
       "mean     43.285524     7.192699   582.500000     2.065172     1.017182\n",
       "std      14.953896     1.137215   336.162163     1.077858     0.895031\n",
       "min      20.000000     4.000000     1.000000     0.000000     0.000000\n",
       "25%      29.607500     7.011643   291.750000     1.378468     0.000000\n",
       "50%      41.930000     7.117306   582.500000     2.000000     1.000000\n",
       "75%      55.560000     7.937533   873.250000     2.844948     2.000000\n",
       "max      70.050000     8.830000  1164.000000     4.100000     3.000000"
      ]
     },
     "execution_count": 15,
     "metadata": {},
     "output_type": "execute_result"
    }
   ],
   "source": [
    "data1.describe()"
   ]
  },
  {
   "cell_type": "code",
   "execution_count": 16,
   "metadata": {},
   "outputs": [
    {
     "data": {
      "text/html": [
       "<div>\n",
       "<style scoped>\n",
       "    .dataframe tbody tr th:only-of-type {\n",
       "        vertical-align: middle;\n",
       "    }\n",
       "\n",
       "    .dataframe tbody tr th {\n",
       "        vertical-align: top;\n",
       "    }\n",
       "\n",
       "    .dataframe thead th {\n",
       "        text-align: right;\n",
       "    }\n",
       "</style>\n",
       "<table border=\"1\" class=\"dataframe\">\n",
       "  <thead>\n",
       "    <tr style=\"text-align: right;\">\n",
       "      <th></th>\n",
       "      <th>Temperature</th>\n",
       "      <th>pH</th>\n",
       "      <th>Days</th>\n",
       "      <th>Methane</th>\n",
       "      <th>Result</th>\n",
       "    </tr>\n",
       "  </thead>\n",
       "  <tbody>\n",
       "    <tr>\n",
       "      <th>count</th>\n",
       "      <td>20000.000000</td>\n",
       "      <td>20000.000000</td>\n",
       "      <td>20000.000000</td>\n",
       "      <td>20000.000000</td>\n",
       "      <td>20000.000000</td>\n",
       "    </tr>\n",
       "    <tr>\n",
       "      <th>mean</th>\n",
       "      <td>45.068344</td>\n",
       "      <td>6.749473</td>\n",
       "      <td>848.492600</td>\n",
       "      <td>3.075383</td>\n",
       "      <td>1.362250</td>\n",
       "    </tr>\n",
       "    <tr>\n",
       "      <th>std</th>\n",
       "      <td>15.796833</td>\n",
       "      <td>1.350426</td>\n",
       "      <td>327.058812</td>\n",
       "      <td>1.047116</td>\n",
       "      <td>1.089213</td>\n",
       "    </tr>\n",
       "    <tr>\n",
       "      <th>min</th>\n",
       "      <td>8.385670</td>\n",
       "      <td>3.187609</td>\n",
       "      <td>-177.000000</td>\n",
       "      <td>-0.558586</td>\n",
       "      <td>0.000000</td>\n",
       "    </tr>\n",
       "    <tr>\n",
       "      <th>25%</th>\n",
       "      <td>31.516519</td>\n",
       "      <td>5.569398</td>\n",
       "      <td>621.000000</td>\n",
       "      <td>2.226280</td>\n",
       "      <td>0.000000</td>\n",
       "    </tr>\n",
       "    <tr>\n",
       "      <th>50%</th>\n",
       "      <td>44.166806</td>\n",
       "      <td>7.112561</td>\n",
       "      <td>916.000000</td>\n",
       "      <td>3.131213</td>\n",
       "      <td>1.000000</td>\n",
       "    </tr>\n",
       "    <tr>\n",
       "      <th>75%</th>\n",
       "      <td>57.651328</td>\n",
       "      <td>7.568955</td>\n",
       "      <td>1109.000000</td>\n",
       "      <td>4.001340</td>\n",
       "      <td>2.000000</td>\n",
       "    </tr>\n",
       "    <tr>\n",
       "      <th>max</th>\n",
       "      <td>86.174784</td>\n",
       "      <td>9.434799</td>\n",
       "      <td>1498.000000</td>\n",
       "      <td>5.195518</td>\n",
       "      <td>3.000000</td>\n",
       "    </tr>\n",
       "  </tbody>\n",
       "</table>\n",
       "</div>"
      ],
      "text/plain": [
       "        Temperature            pH          Days       Methane        Result\n",
       "count  20000.000000  20000.000000  20000.000000  20000.000000  20000.000000\n",
       "mean      45.068344      6.749473    848.492600      3.075383      1.362250\n",
       "std       15.796833      1.350426    327.058812      1.047116      1.089213\n",
       "min        8.385670      3.187609   -177.000000     -0.558586      0.000000\n",
       "25%       31.516519      5.569398    621.000000      2.226280      0.000000\n",
       "50%       44.166806      7.112561    916.000000      3.131213      1.000000\n",
       "75%       57.651328      7.568955   1109.000000      4.001340      2.000000\n",
       "max       86.174784      9.434799   1498.000000      5.195518      3.000000"
      ]
     },
     "execution_count": 16,
     "metadata": {},
     "output_type": "execute_result"
    }
   ],
   "source": [
    "synthetic_data.describe()"
   ]
  }
 ],
 "metadata": {
  "kernelspec": {
   "display_name": "Python 3",
   "language": "python",
   "name": "python3"
  },
  "language_info": {
   "codemirror_mode": {
    "name": "ipython",
    "version": 3
   },
   "file_extension": ".py",
   "mimetype": "text/x-python",
   "name": "python",
   "nbconvert_exporter": "python",
   "pygments_lexer": "ipython3",
   "version": "3.11.9"
  }
 },
 "nbformat": 4,
 "nbformat_minor": 2
}
